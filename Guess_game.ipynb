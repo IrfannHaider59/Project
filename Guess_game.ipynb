{
  "nbformat": 4,
  "nbformat_minor": 0,
  "metadata": {
    "colab": {
      "provenance": []
    },
    "kernelspec": {
      "name": "python3",
      "display_name": "Python 3"
    },
    "language_info": {
      "name": "python"
    }
  },
  "cells": [
    {
      "cell_type": "code",
      "execution_count": 2,
      "metadata": {
        "colab": {
          "base_uri": "https://localhost:8080/"
        },
        "id": "qSKWrcFrjSW_",
        "outputId": "9461c7f4-b5d1-4e83-8a6c-d07e861692d4"
      },
      "outputs": [
        {
          "output_type": "stream",
          "name": "stdout",
          "text": [
            "guess karo:3\n",
            "galat ! guess higher\n",
            "guess karo:5\n",
            "galat ! guess higher\n",
            "guess karo:66\n",
            "galat ! guess lower\n",
            "guess karo:55\n",
            "galat ! guess higher\n",
            "guess karo:61\n",
            "galat ! guess lower\n",
            "guess karo:60\n",
            "galat ! guess lower\n",
            "guess karo:51\n",
            "galat ! guess higher\n",
            "guess karo:56\n",
            "galat ! guess higher\n",
            "guess karo:57\n",
            "galat ! guess higher\n",
            "guess karo:8\n",
            "galat ! guess higher\n",
            "guess karo:59\n",
            "correct guess\n",
            "Attempts : 11\n"
          ]
        }
      ],
      "source": [
        "# This is a guessing number game\n",
        "import random\n",
        "jackpot = random.randint(1,100)\n",
        "\n",
        "guess = int(input(\"guess karo:\"))\n",
        "counter = 1\n",
        "\n",
        "while guess != jackpot:\n",
        "  if guess < jackpot:\n",
        "    print(\"galat ! guess higher\")\n",
        "  else:\n",
        "    print(\"galat ! guess lower\")\n",
        "\n",
        "  guess = int(input(\"guess karo:\"))\n",
        "  counter += 1\n",
        "\n",
        "else:\n",
        "  print(\"correct guess\")\n",
        "  print(\"Attempts :\",counter)"
      ]
    },
    {
      "cell_type": "code",
      "source": [
        "5"
      ],
      "metadata": {
        "id": "MmoVSUzfkXHl"
      },
      "execution_count": null,
      "outputs": []
    }
  ]
}