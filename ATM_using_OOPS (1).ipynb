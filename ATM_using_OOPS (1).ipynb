{
  "nbformat": 4,
  "nbformat_minor": 0,
  "metadata": {
    "colab": {
      "provenance": []
    },
    "kernelspec": {
      "name": "python3",
      "display_name": "Python 3"
    },
    "language_info": {
      "name": "python"
    }
  },
  "cells": [
    {
      "cell_type": "code",
      "source": [
        "class ATM:\n",
        "    def __init__(self):\n",
        "        self.pin = \"\"\n",
        "        self.balance = 0\n",
        "        self.menu()\n",
        "\n",
        "    def menu(self):\n",
        "        user_input = input(\"\"\"\n",
        "        Hi,How can I help you?\n",
        "        1. Press 1 to Create Pin.\n",
        "        2. Press 2 to Change Pin.\n",
        "        3. Press 3 to Check Balance.\n",
        "        4. Press 4 to Withdraw.\n",
        "        5. Anything else to exit.\n",
        "        \"\"\")\n",
        "\n",
        "        if user_input == \"1\":\n",
        "            self.create_pin()\n",
        "\n",
        "        elif user_input == \"2\":\n",
        "            self.change_pin()\n",
        "\n",
        "        elif user_input == \"3\":\n",
        "            self.check_balance()\n",
        "\n",
        "        elif user_input == \"4\":\n",
        "            self.withdraw()\n",
        "\n",
        "        else:\n",
        "          exit()\n",
        "\n",
        "    def create_pin(self):\n",
        "      user_pin = input(\"enter your pin: \")\n",
        "      self.pin = user_pin\n",
        "\n",
        "      user_balance = int(input(\"enter your balance: \"))\n",
        "      self.balance = user_balance\n",
        "\n",
        "      print(\"Pin created successfully\")\n",
        "      self.menu()\n",
        "\n",
        "    def change_pin(self):\n",
        "      old_pin = input(\"enter old pin: \")\n",
        "\n",
        "      if old_pin == self.pin:\n",
        "         new_pin = input(\"enter new pin: \")\n",
        "         self.pin = new_pin\n",
        "         print(\"Pin change successfullt\")\n",
        "      else:\n",
        "        print(\"nai karne de sakta Incorrect Pin\")\n",
        "\n",
        "      self.menu()\n",
        "\n",
        "    def check_balance(self):\n",
        "      user_pin =input(\"enter your pin:\")\n",
        "      if user_pin == self.pin:\n",
        "        print(\"your balance is \",self.balance)\n",
        "      else:\n",
        "        print(\"Incorrect Pin \")\n",
        "\n",
        "      self.menu()\n",
        "\n",
        "    def withdraw(self):\n",
        "      user_pin = input(\"enter the pin:\")\n",
        "      if user_pin == self.pin:\n",
        "        amount = int(input(\"enter your amount:\"))\n",
        "        if amount <= self.balance:\n",
        "          self.balance = self.balance - amount\n",
        "          print(\"withdrawl successfully  new balance is :\",self.balance)\n",
        "      else:\n",
        "        print(\" Incorrect Pin \")\n",
        "\n",
        "      self.menu()"
      ],
      "metadata": {
        "id": "T0gh6Cd9JR5q"
      },
      "execution_count": 3,
      "outputs": []
    },
    {
      "cell_type": "code",
      "source": [
        "obj = ATM()"
      ],
      "metadata": {
        "colab": {
          "base_uri": "https://localhost:8080/"
        },
        "id": "TeObKpIQMZle",
        "outputId": "b93c786b-6c71-496e-a3d2-3c0e2cc6c9d9"
      },
      "execution_count": 4,
      "outputs": [
        {
          "output_type": "stream",
          "name": "stdout",
          "text": [
            "\n",
            "        Hi,How can I help you?\n",
            "        1. Press 1 to Create Pin.\n",
            "        2. Press 2 to Change Pin.\n",
            "        3. Press 3 to Check Balance.\n",
            "        4. Press 4 to Withdraw.\n",
            "        5. Anything else to exit.\n",
            "        1\n",
            "enter your pin: 123\n",
            "enter your balance: 100\n",
            "Pin created successfully\n",
            "\n",
            "        Hi,How can I help you?\n",
            "        1. Press 1 to Create Pin.\n",
            "        2. Press 2 to Change Pin.\n",
            "        3. Press 3 to Check Balance.\n",
            "        4. Press 4 to Withdraw.\n",
            "        5. Anything else to exit.\n",
            "        2\n",
            "enter old pin: 123\n",
            "enter new pin: 456\n",
            "Pin change successfullt\n",
            "\n",
            "        Hi,How can I help you?\n",
            "        1. Press 1 to Create Pin.\n",
            "        2. Press 2 to Change Pin.\n",
            "        3. Press 3 to Check Balance.\n",
            "        4. Press 4 to Withdraw.\n",
            "        5. Anything else to exit.\n",
            "        3\n",
            "enter your pin:456\n",
            "your balance is  100\n",
            "\n",
            "        Hi,How can I help you?\n",
            "        1. Press 1 to Create Pin.\n",
            "        2. Press 2 to Change Pin.\n",
            "        3. Press 3 to Check Balance.\n",
            "        4. Press 4 to Withdraw.\n",
            "        5. Anything else to exit.\n",
            "        4\n",
            "enter the pin:456\n",
            "enter your amount:55\n",
            "withdrawl successfully  new balance is : 45\n"
          ]
        }
      ]
    },
    {
      "cell_type": "code",
      "source": [
        "\n"
      ],
      "metadata": {
        "id": "qIE8W_IoM2tL"
      },
      "execution_count": 2,
      "outputs": []
    },
    {
      "cell_type": "code",
      "source": [],
      "metadata": {
        "id": "RiIxVt7MYDa1"
      },
      "execution_count": 2,
      "outputs": []
    }
  ]
}